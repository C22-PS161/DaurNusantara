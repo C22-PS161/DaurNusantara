{
 "cells": [
  {
   "cell_type": "code",
   "execution_count": 2,
   "id": "3870a2af",
   "metadata": {},
   "outputs": [
    {
     "name": "stdout",
     "output_type": "stream",
     "text": [
      "Requirement already satisfied: opencv-python in c:\\users\\leo\\miniconda3\\envs\\tf-latest\\lib\\site-packages (4.6.0.66)\n",
      "Requirement already satisfied: numpy>=1.14.5 in c:\\users\\leo\\miniconda3\\envs\\tf-latest\\lib\\site-packages (from opencv-python) (1.21.5)\n"
     ]
    }
   ],
   "source": [
    "!pip install opencv-python"
   ]
  },
  {
   "cell_type": "code",
   "execution_count": 3,
   "id": "0e07b3fd",
   "metadata": {},
   "outputs": [
    {
     "name": "stderr",
     "output_type": "stream",
     "text": [
      "ERROR: Could not find a version that satisfies the requirement tensorflow==2.9.1 (from versions: none)\n",
      "ERROR: No matching distribution found for tensorflow==2.9.1\n",
      "WARNING: There was an error checking the latest version of pip.\n"
     ]
    }
   ],
   "source": [
    "!pip install tensorflow==2.9.1"
   ]
  },
  {
   "cell_type": "code",
   "execution_count": 3,
   "id": "5223177e",
   "metadata": {},
   "outputs": [],
   "source": [
    "import os\n",
    "import cv2\n",
    "import numpy as np\n",
    "import tensorflow as tf"
   ]
  },
  {
   "cell_type": "code",
   "execution_count": 4,
   "id": "8a0f4a50",
   "metadata": {},
   "outputs": [
    {
     "name": "stdout",
     "output_type": "stream",
     "text": [
      "2.9.1\n"
     ]
    }
   ],
   "source": [
    "print(tf.__version__)"
   ]
  },
  {
   "cell_type": "code",
   "execution_count": 5,
   "id": "d865b235",
   "metadata": {},
   "outputs": [],
   "source": [
    "SAVED_MODEL_PATH = \"./savedgraphmodel/saved_model\"\n",
    "IMAGE_PATH = \"./test.jpg\""
   ]
  },
  {
   "cell_type": "code",
   "execution_count": 6,
   "id": "aaf30e79",
   "metadata": {},
   "outputs": [
    {
     "data": {
      "text/plain": [
       "<tensorflow.python.saved_model.load.Loader._recreate_base_user_object.<locals>._UserObject at 0x1ab5c0fe3e0>"
      ]
     },
     "execution_count": 6,
     "metadata": {},
     "output_type": "execute_result"
    }
   ],
   "source": [
    "imported = tf.saved_model.load(SAVED_MODEL_PATH)\n",
    "imported"
   ]
  },
  {
   "cell_type": "code",
   "execution_count": 7,
   "id": "4f184426",
   "metadata": {},
   "outputs": [],
   "source": [
    "img = cv2.imread(IMAGE_PATH)\n",
    "image_np = np.array(img)\n",
    "\n",
    "input_tensor = tf.convert_to_tensor(np.expand_dims(image_np, 0), dtype=tf.uint8)"
   ]
  },
  {
   "cell_type": "code",
   "execution_count": 8,
   "id": "57c63a7c",
   "metadata": {},
   "outputs": [],
   "source": [
    "f = imported.signatures['serving_default'] #f = fungsi predict\n",
    "detections = f(input_tensor)\n",
    "detections['detection_classes'] = detections['detection_classes'].numpy().astype(np.int64)[0]\n",
    "detections['detection_scores'] = detections['detection_scores'][0].numpy()"
   ]
  },
  {
   "cell_type": "code",
   "execution_count": 9,
   "id": "eda772f0",
   "metadata": {
    "scrolled": true
   },
   "outputs": [
    {
     "name": "stdout",
     "output_type": "stream",
     "text": [
      "[7 3 5 1 7 2 6 5 5 3 1 1 2 2 5 7 1 5 1 1 1 5 3 5 6 5 2 2 5 6 7 1 2 2 1 1 3\n",
      " 2 2 5 4 7 5 5 5 6 6 1 7 2 3 7 2 2 2 2 2 2 6 2 1 1 1 1 1 5 1 6 5 4 1 7 7 1\n",
      " 1 7 7 5 1 7 2 1 7 6 1 7 3 3 2 7 3 3 1 1 1 1 2 1 6 7]\n",
      "[0.73897487 0.7105948  0.12931722 0.10646635 0.08671424 0.08250029\n",
      " 0.0822864  0.08064631 0.07947291 0.07557546 0.06484652 0.055234\n",
      " 0.0513732  0.04316761 0.04314344 0.0385309  0.0379172  0.03729143\n",
      " 0.0365388  0.03366179 0.03276235 0.03090406 0.03021266 0.03009553\n",
      " 0.02994499 0.02985834 0.02721176 0.02622986 0.02584774 0.0250982\n",
      " 0.02475058 0.0245643  0.02405693 0.02226906 0.02197085 0.02171806\n",
      " 0.02166956 0.021595   0.02141851 0.02080331 0.02059086 0.02028325\n",
      " 0.01976187 0.01963297 0.01927727 0.01899751 0.01804146 0.01778022\n",
      " 0.0176042  0.01743761 0.0173619  0.01727159 0.01712015 0.01704152\n",
      " 0.01645095 0.01636379 0.01630968 0.01597894 0.01581355 0.01543751\n",
      " 0.01510213 0.01491098 0.01461031 0.0145761  0.01456442 0.01456116\n",
      " 0.01427236 0.0140716  0.01404951 0.0139633  0.01393502 0.01364792\n",
      " 0.01361004 0.01345976 0.01344537 0.01343689 0.01340814 0.01334827\n",
      " 0.01323834 0.01312373 0.01312065 0.01308272 0.01301864 0.01259442\n",
      " 0.01244151 0.01236501 0.01228658 0.01225751 0.01224353 0.01220925\n",
      " 0.01212911 0.01203921 0.01194653 0.01191895 0.0118982  0.01188531\n",
      " 0.01187376 0.01185305 0.01175325 0.01164109]\n"
     ]
    }
   ],
   "source": [
    "# detection_classes should be ints.\n",
    "label_id_offset = 1\n",
    "image_np_with_detections = image_np.copy()\n",
    "\n",
    "print(detections['detection_classes'])\n",
    "print(detections['detection_scores'])"
   ]
  },
  {
   "cell_type": "code",
   "execution_count": 10,
   "id": "d687e1f2",
   "metadata": {},
   "outputs": [
    {
     "name": "stdout",
     "output_type": "stream",
     "text": [
      "{7: 17, 3: 10, 5: 17, 1: 29, 2: 21, 6: 10, 4: 3}\n",
      "100\n",
      "0.73897487\n",
      "100\n"
     ]
    }
   ],
   "source": [
    "dict = {}\n",
    "for det_class in detections['detection_classes']:\n",
    "    if (det_class not in dict):\n",
    "        dict[det_class] = 1\n",
    "    dict[det_class] += 1\n",
    "\n",
    "print(dict)\n",
    "print(len(detections['detection_classes']))\n",
    "# Most confident prediction (will be used as the prediction result)\n",
    "print(detections['detection_scores'].max())\n",
    "print(len(detections['detection_scores']))"
   ]
  },
  {
   "cell_type": "code",
   "execution_count": 11,
   "id": "ae4dcad5",
   "metadata": {},
   "outputs": [],
   "source": [
    "def get_results(detections, threshold):\n",
    "  last_valid_idx = 0\n",
    "  while (detections['detection_scores'][last_valid_idx] >= threshold):\n",
    "    last_valid_idx += 1\n",
    "  \n",
    "  used_scores = detections['detection_scores'][:last_valid_idx]\n",
    "  used_classes = detections['detection_classes'][:last_valid_idx]\n",
    "  return used_scores, used_classes"
   ]
  },
  {
   "cell_type": "code",
   "execution_count": 28,
   "id": "b5ae2f7a",
   "metadata": {},
   "outputs": [],
   "source": [
    "def predict(threshold):\n",
    "    threshold = float(threshold)\n",
    "    #get image by http-get\n",
    "    image_from_api = IMAGE_PATH\n",
    "    img = cv2.imread(image_from_api)\n",
    "    images_np = np.array(img)\n",
    "\n",
    "    # change file image into numpy array\n",
    "    input_tensor = tf.convert_to_tensor(np.expand_dims(images_np, 0), dtype=tf.uint8)\n",
    "\n",
    "    detections = f(input_tensor)\n",
    "    detections['detection_classes'] = detections['detection_classes'].numpy().astype(np.int64)[0]\n",
    "    detections['detection_scores'] = detections['detection_scores'][0].numpy()\n",
    "\n",
    "    used_scores, used_classes = get_results(detections, threshold)\n",
    "\n",
    "    decoded_classes = []\n",
    "    for i in range (len(used_classes)):\n",
    "      decoded_classes.append(label_mapping['{}'.format(used_classes[i])])\n",
    "\n",
    "    \n",
    "    return decoded_classes\n"
   ]
  },
  {
   "cell_type": "code",
   "execution_count": 17,
   "id": "251eb5c7",
   "metadata": {},
   "outputs": [],
   "source": [
    "label_mapping = {\n",
    "    '1': 'kantong',\n",
    "    '2': 'kertas',\n",
    "    '3': 'piring',\n",
    "    '4': 'kardus',\n",
    "    '5': 'cup',\n",
    "    '6': 'kaleng',\n",
    "    '7': 'botol'\n",
    "}"
   ]
  },
  {
   "cell_type": "code",
   "execution_count": 29,
   "id": "116cdaec",
   "metadata": {},
   "outputs": [
    {
     "data": {
      "text/plain": [
       "['botol', 'piring']"
      ]
     },
     "execution_count": 29,
     "metadata": {},
     "output_type": "execute_result"
    }
   ],
   "source": [
    "predict(0.7)"
   ]
  },
  {
   "cell_type": "code",
   "execution_count": null,
   "id": "7c9224e3",
   "metadata": {},
   "outputs": [],
   "source": []
  }
 ],
 "metadata": {
  "kernelspec": {
   "display_name": "Python 3.10.4 ('tf-latest')",
   "language": "python",
   "name": "python3"
  },
  "language_info": {
   "codemirror_mode": {
    "name": "ipython",
    "version": 3
   },
   "file_extension": ".py",
   "mimetype": "text/x-python",
   "name": "python",
   "nbconvert_exporter": "python",
   "pygments_lexer": "ipython3",
   "version": "3.10.4"
  },
  "vscode": {
   "interpreter": {
    "hash": "13e404ddfa3289ee7439657aae51020c87936b348235f58a6e708c1d39eaee69"
   }
  }
 },
 "nbformat": 4,
 "nbformat_minor": 5
}
