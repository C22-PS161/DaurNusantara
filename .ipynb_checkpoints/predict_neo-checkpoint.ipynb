{
 "cells": [
  {
   "cell_type": "code",
   "execution_count": 12,
   "id": "3870a2af",
   "metadata": {},
   "outputs": [
    {
     "name": "stdout",
     "output_type": "stream",
     "text": [
      "Collecting opencv-python\n",
      "  Downloading opencv_python-4.6.0.66-cp36-abi3-win_amd64.whl (35.6 MB)\n",
      "Requirement already satisfied: numpy>=1.19.3 in c:\\users\\leo\\miniconda3\\envs\\tf-latest\\lib\\site-packages (from opencv-python) (1.22.3)\n",
      "Installing collected packages: opencv-python\n",
      "Successfully installed opencv-python-4.6.0.66\n"
     ]
    }
   ],
   "source": [
    "!pip install opencv-python"
   ]
  },
  {
   "cell_type": "code",
   "execution_count": 33,
   "id": "0e07b3fd",
   "metadata": {},
   "outputs": [
    {
     "name": "stdout",
     "output_type": "stream",
     "text": [
      "Collecting object-detection\n",
      "  Downloading object_detection-0.0.3-py3-none-any.whl (1.5 MB)\n",
      "Requirement already satisfied: pillow in c:\\users\\leo\\miniconda3\\envs\\tf-latest\\lib\\site-packages (from object-detection) (9.0.1)\n",
      "Collecting Cython\n",
      "  Using cached Cython-0.29.30-py2.py3-none-any.whl (985 kB)\n",
      "Requirement already satisfied: jupyter in c:\\users\\leo\\miniconda3\\envs\\tf-latest\\lib\\site-packages (from object-detection) (1.0.0)\n",
      "Requirement already satisfied: matplotlib in c:\\users\\leo\\miniconda3\\envs\\tf-latest\\lib\\site-packages (from object-detection) (3.5.1)\n",
      "Requirement already satisfied: tensorflow in c:\\users\\leo\\miniconda3\\envs\\tf-latest\\lib\\site-packages (from object-detection) (2.9.1)\n",
      "Collecting contextlib2\n",
      "  Using cached contextlib2-21.6.0-py2.py3-none-any.whl (13 kB)\n",
      "Collecting lxml\n",
      "  Using cached lxml-4.9.0-cp310-cp310-win_amd64.whl (3.6 MB)\n",
      "Requirement already satisfied: jupyter-console in c:\\users\\leo\\miniconda3\\envs\\tf-latest\\lib\\site-packages (from jupyter->object-detection) (6.4.3)\n",
      "Requirement already satisfied: qtconsole in c:\\users\\leo\\miniconda3\\envs\\tf-latest\\lib\\site-packages (from jupyter->object-detection) (5.3.0)\n",
      "Requirement already satisfied: ipywidgets in c:\\users\\leo\\miniconda3\\envs\\tf-latest\\lib\\site-packages (from jupyter->object-detection) (7.6.5)\n",
      "Requirement already satisfied: nbconvert in c:\\users\\leo\\miniconda3\\envs\\tf-latest\\lib\\site-packages (from jupyter->object-detection) (6.4.4)\n",
      "Requirement already satisfied: notebook in c:\\users\\leo\\miniconda3\\envs\\tf-latest\\lib\\site-packages (from jupyter->object-detection) (6.4.11)\n",
      "Requirement already satisfied: ipykernel in c:\\users\\leo\\miniconda3\\envs\\tf-latest\\lib\\site-packages (from jupyter->object-detection) (6.9.1)\n",
      "Requirement already satisfied: jupyter-client<8.0 in c:\\users\\leo\\miniconda3\\envs\\tf-latest\\lib\\site-packages (from ipykernel->jupyter->object-detection) (7.2.2)\n",
      "Requirement already satisfied: traitlets<6.0,>=5.1.0 in c:\\users\\leo\\miniconda3\\envs\\tf-latest\\lib\\site-packages (from ipykernel->jupyter->object-detection) (5.1.1)\n",
      "Requirement already satisfied: nest-asyncio in c:\\users\\leo\\miniconda3\\envs\\tf-latest\\lib\\site-packages (from ipykernel->jupyter->object-detection) (1.5.5)\n",
      "Requirement already satisfied: matplotlib-inline<0.2.0,>=0.1.0 in c:\\users\\leo\\miniconda3\\envs\\tf-latest\\lib\\site-packages (from ipykernel->jupyter->object-detection) (0.1.2)\n",
      "Requirement already satisfied: debugpy<2.0,>=1.0.0 in c:\\users\\leo\\miniconda3\\envs\\tf-latest\\lib\\site-packages (from ipykernel->jupyter->object-detection) (1.5.1)\n",
      "Requirement already satisfied: tornado<7.0,>=4.2 in c:\\users\\leo\\miniconda3\\envs\\tf-latest\\lib\\site-packages (from ipykernel->jupyter->object-detection) (6.1)\n",
      "Requirement already satisfied: ipython>=7.23.1 in c:\\users\\leo\\miniconda3\\envs\\tf-latest\\lib\\site-packages (from ipykernel->jupyter->object-detection) (8.3.0)\n",
      "Requirement already satisfied: stack-data in c:\\users\\leo\\miniconda3\\envs\\tf-latest\\lib\\site-packages (from ipython>=7.23.1->ipykernel->jupyter->object-detection) (0.2.0)\n",
      "Requirement already satisfied: prompt-toolkit!=3.0.0,!=3.0.1,<3.1.0,>=2.0.0 in c:\\users\\leo\\miniconda3\\envs\\tf-latest\\lib\\site-packages (from ipython>=7.23.1->ipykernel->jupyter->object-detection) (3.0.20)\n",
      "Requirement already satisfied: pygments>=2.4.0 in c:\\users\\leo\\miniconda3\\envs\\tf-latest\\lib\\site-packages (from ipython>=7.23.1->ipykernel->jupyter->object-detection) (2.11.2)\n",
      "Requirement already satisfied: setuptools>=18.5 in c:\\users\\leo\\miniconda3\\envs\\tf-latest\\lib\\site-packages (from ipython>=7.23.1->ipykernel->jupyter->object-detection) (61.2.0)\n",
      "Requirement already satisfied: pickleshare in c:\\users\\leo\\miniconda3\\envs\\tf-latest\\lib\\site-packages (from ipython>=7.23.1->ipykernel->jupyter->object-detection) (0.7.5)\n",
      "Requirement already satisfied: colorama in c:\\users\\leo\\miniconda3\\envs\\tf-latest\\lib\\site-packages (from ipython>=7.23.1->ipykernel->jupyter->object-detection) (0.4.4)\n",
      "Requirement already satisfied: backcall in c:\\users\\leo\\miniconda3\\envs\\tf-latest\\lib\\site-packages (from ipython>=7.23.1->ipykernel->jupyter->object-detection) (0.2.0)\n",
      "Requirement already satisfied: jedi>=0.16 in c:\\users\\leo\\miniconda3\\envs\\tf-latest\\lib\\site-packages (from ipython>=7.23.1->ipykernel->jupyter->object-detection) (0.18.1)\n",
      "Requirement already satisfied: decorator in c:\\users\\leo\\miniconda3\\envs\\tf-latest\\lib\\site-packages (from ipython>=7.23.1->ipykernel->jupyter->object-detection) (5.1.1)\n",
      "Requirement already satisfied: parso<0.9.0,>=0.8.0 in c:\\users\\leo\\miniconda3\\envs\\tf-latest\\lib\\site-packages (from jedi>=0.16->ipython>=7.23.1->ipykernel->jupyter->object-detection) (0.8.3)\n",
      "Requirement already satisfied: entrypoints in c:\\users\\leo\\miniconda3\\envs\\tf-latest\\lib\\site-packages (from jupyter-client<8.0->ipykernel->jupyter->object-detection) (0.4)\n",
      "Requirement already satisfied: jupyter-core>=4.9.2 in c:\\users\\leo\\miniconda3\\envs\\tf-latest\\lib\\site-packages (from jupyter-client<8.0->ipykernel->jupyter->object-detection) (4.10.0)\n",
      "Requirement already satisfied: pyzmq>=22.3 in c:\\users\\leo\\miniconda3\\envs\\tf-latest\\lib\\site-packages (from jupyter-client<8.0->ipykernel->jupyter->object-detection) (22.3.0)\n",
      "Requirement already satisfied: python-dateutil>=2.8.2 in c:\\users\\leo\\miniconda3\\envs\\tf-latest\\lib\\site-packages (from jupyter-client<8.0->ipykernel->jupyter->object-detection) (2.8.2)\n",
      "Requirement already satisfied: pywin32>=1.0 in c:\\users\\leo\\miniconda3\\envs\\tf-latest\\lib\\site-packages (from jupyter-core>=4.9.2->jupyter-client<8.0->ipykernel->jupyter->object-detection) (302)\n",
      "Requirement already satisfied: wcwidth in c:\\users\\leo\\miniconda3\\envs\\tf-latest\\lib\\site-packages (from prompt-toolkit!=3.0.0,!=3.0.1,<3.1.0,>=2.0.0->ipython>=7.23.1->ipykernel->jupyter->object-detection) (0.2.5)\n",
      "Requirement already satisfied: six>=1.5 in c:\\users\\leo\\miniconda3\\envs\\tf-latest\\lib\\site-packages (from python-dateutil>=2.8.2->jupyter-client<8.0->ipykernel->jupyter->object-detection) (1.16.0)\n",
      "Requirement already satisfied: ipython-genutils~=0.2.0 in c:\\users\\leo\\miniconda3\\envs\\tf-latest\\lib\\site-packages (from ipywidgets->jupyter->object-detection) (0.2.0)\n",
      "Requirement already satisfied: jupyterlab-widgets>=1.0.0 in c:\\users\\leo\\miniconda3\\envs\\tf-latest\\lib\\site-packages (from ipywidgets->jupyter->object-detection) (1.0.0)\n",
      "Requirement already satisfied: nbformat>=4.2.0 in c:\\users\\leo\\miniconda3\\envs\\tf-latest\\lib\\site-packages (from ipywidgets->jupyter->object-detection) (5.3.0)\n",
      "Requirement already satisfied: widgetsnbextension~=3.5.0 in c:\\users\\leo\\miniconda3\\envs\\tf-latest\\lib\\site-packages (from ipywidgets->jupyter->object-detection) (3.5.2)\n",
      "Requirement already satisfied: fastjsonschema in c:\\users\\leo\\miniconda3\\envs\\tf-latest\\lib\\site-packages (from nbformat>=4.2.0->ipywidgets->jupyter->object-detection) (2.15.1)\n",
      "Requirement already satisfied: jsonschema>=2.6 in c:\\users\\leo\\miniconda3\\envs\\tf-latest\\lib\\site-packages (from nbformat>=4.2.0->ipywidgets->jupyter->object-detection) (4.4.0)\n",
      "Requirement already satisfied: pyrsistent!=0.17.0,!=0.17.1,!=0.17.2,>=0.14.0 in c:\\users\\leo\\miniconda3\\envs\\tf-latest\\lib\\site-packages (from jsonschema>=2.6->nbformat>=4.2.0->ipywidgets->jupyter->object-detection) (0.18.0)\n",
      "Requirement already satisfied: attrs>=17.4.0 in c:\\users\\leo\\miniconda3\\envs\\tf-latest\\lib\\site-packages (from jsonschema>=2.6->nbformat>=4.2.0->ipywidgets->jupyter->object-detection) (21.4.0)\n",
      "Requirement already satisfied: argon2-cffi in c:\\users\\leo\\miniconda3\\envs\\tf-latest\\lib\\site-packages (from notebook->jupyter->object-detection) (21.3.0)\n",
      "Requirement already satisfied: terminado>=0.8.3 in c:\\users\\leo\\miniconda3\\envs\\tf-latest\\lib\\site-packages (from notebook->jupyter->object-detection) (0.13.1)\n",
      "Requirement already satisfied: prometheus-client in c:\\users\\leo\\miniconda3\\envs\\tf-latest\\lib\\site-packages (from notebook->jupyter->object-detection) (0.13.1)\n",
      "Requirement already satisfied: Send2Trash>=1.8.0 in c:\\users\\leo\\miniconda3\\envs\\tf-latest\\lib\\site-packages (from notebook->jupyter->object-detection) (1.8.0)\n",
      "Requirement already satisfied: jinja2 in c:\\users\\leo\\miniconda3\\envs\\tf-latest\\lib\\site-packages (from notebook->jupyter->object-detection) (3.0.3)\n",
      "Requirement already satisfied: jupyterlab-pygments in c:\\users\\leo\\miniconda3\\envs\\tf-latest\\lib\\site-packages (from nbconvert->jupyter->object-detection) (0.1.2)\n",
      "Requirement already satisfied: mistune<2,>=0.8.1 in c:\\users\\leo\\miniconda3\\envs\\tf-latest\\lib\\site-packages (from nbconvert->jupyter->object-detection) (0.8.4)\n",
      "Requirement already satisfied: nbclient<0.6.0,>=0.5.0 in c:\\users\\leo\\miniconda3\\envs\\tf-latest\\lib\\site-packages (from nbconvert->jupyter->object-detection) (0.5.13)\n",
      "Requirement already satisfied: pandocfilters>=1.4.1 in c:\\users\\leo\\miniconda3\\envs\\tf-latest\\lib\\site-packages (from nbconvert->jupyter->object-detection) (1.5.0)\n",
      "Requirement already satisfied: beautifulsoup4 in c:\\users\\leo\\miniconda3\\envs\\tf-latest\\lib\\site-packages (from nbconvert->jupyter->object-detection) (4.11.1)\n",
      "Requirement already satisfied: testpath in c:\\users\\leo\\miniconda3\\envs\\tf-latest\\lib\\site-packages (from nbconvert->jupyter->object-detection) (0.5.0)\n",
      "Requirement already satisfied: defusedxml in c:\\users\\leo\\miniconda3\\envs\\tf-latest\\lib\\site-packages (from nbconvert->jupyter->object-detection) (0.7.1)\n",
      "Requirement already satisfied: bleach in c:\\users\\leo\\miniconda3\\envs\\tf-latest\\lib\\site-packages (from nbconvert->jupyter->object-detection) (4.1.0)\n",
      "Requirement already satisfied: MarkupSafe>=2.0 in c:\\users\\leo\\miniconda3\\envs\\tf-latest\\lib\\site-packages (from jinja2->notebook->jupyter->object-detection) (2.0.1)\n",
      "Requirement already satisfied: pywinpty>=1.1.0 in c:\\users\\leo\\miniconda3\\envs\\tf-latest\\lib\\site-packages (from terminado>=0.8.3->notebook->jupyter->object-detection) (2.0.2)\n",
      "Requirement already satisfied: argon2-cffi-bindings in c:\\users\\leo\\miniconda3\\envs\\tf-latest\\lib\\site-packages (from argon2-cffi->notebook->jupyter->object-detection) (21.2.0)\n",
      "Requirement already satisfied: cffi>=1.0.1 in c:\\users\\leo\\miniconda3\\envs\\tf-latest\\lib\\site-packages (from argon2-cffi-bindings->argon2-cffi->notebook->jupyter->object-detection) (1.15.0)\n",
      "Requirement already satisfied: pycparser in c:\\users\\leo\\miniconda3\\envs\\tf-latest\\lib\\site-packages (from cffi>=1.0.1->argon2-cffi-bindings->argon2-cffi->notebook->jupyter->object-detection) (2.21)\n",
      "Requirement already satisfied: soupsieve>1.2 in c:\\users\\leo\\miniconda3\\envs\\tf-latest\\lib\\site-packages (from beautifulsoup4->nbconvert->jupyter->object-detection) (2.3.1)\n",
      "Requirement already satisfied: webencodings in c:\\users\\leo\\miniconda3\\envs\\tf-latest\\lib\\site-packages (from bleach->nbconvert->jupyter->object-detection) (0.5.1)\n",
      "Requirement already satisfied: packaging in c:\\users\\leo\\miniconda3\\envs\\tf-latest\\lib\\site-packages (from bleach->nbconvert->jupyter->object-detection) (21.3)\n",
      "Requirement already satisfied: kiwisolver>=1.0.1 in c:\\users\\leo\\miniconda3\\envs\\tf-latest\\lib\\site-packages (from matplotlib->object-detection) (1.4.2)\n",
      "Requirement already satisfied: numpy>=1.17 in c:\\users\\leo\\miniconda3\\envs\\tf-latest\\lib\\site-packages (from matplotlib->object-detection) (1.22.3)\n",
      "Requirement already satisfied: fonttools>=4.22.0 in c:\\users\\leo\\miniconda3\\envs\\tf-latest\\lib\\site-packages (from matplotlib->object-detection) (4.25.0)\n",
      "Requirement already satisfied: cycler>=0.10 in c:\\users\\leo\\miniconda3\\envs\\tf-latest\\lib\\site-packages (from matplotlib->object-detection) (0.11.0)\n",
      "Requirement already satisfied: pyparsing>=2.2.1 in c:\\users\\leo\\miniconda3\\envs\\tf-latest\\lib\\site-packages (from matplotlib->object-detection) (3.0.4)\n",
      "Requirement already satisfied: qtpy>=2.0.1 in c:\\users\\leo\\miniconda3\\envs\\tf-latest\\lib\\site-packages (from qtconsole->jupyter->object-detection) (2.0.1)\n",
      "Requirement already satisfied: executing in c:\\users\\leo\\miniconda3\\envs\\tf-latest\\lib\\site-packages (from stack-data->ipython>=7.23.1->ipykernel->jupyter->object-detection) (0.8.3)\n",
      "Requirement already satisfied: pure-eval in c:\\users\\leo\\miniconda3\\envs\\tf-latest\\lib\\site-packages (from stack-data->ipython>=7.23.1->ipykernel->jupyter->object-detection) (0.2.2)\n",
      "Requirement already satisfied: asttokens in c:\\users\\leo\\miniconda3\\envs\\tf-latest\\lib\\site-packages (from stack-data->ipython>=7.23.1->ipykernel->jupyter->object-detection) (2.0.5)\n",
      "Requirement already satisfied: tensorboard<2.10,>=2.9 in c:\\users\\leo\\miniconda3\\envs\\tf-latest\\lib\\site-packages (from tensorflow->object-detection) (2.9.0)\n",
      "Requirement already satisfied: opt-einsum>=2.3.2 in c:\\users\\leo\\miniconda3\\envs\\tf-latest\\lib\\site-packages (from tensorflow->object-detection) (3.3.0)\n",
      "Requirement already satisfied: termcolor>=1.1.0 in c:\\users\\leo\\miniconda3\\envs\\tf-latest\\lib\\site-packages (from tensorflow->object-detection) (1.1.0)\n",
      "Requirement already satisfied: h5py>=2.9.0 in c:\\users\\leo\\miniconda3\\envs\\tf-latest\\lib\\site-packages (from tensorflow->object-detection) (3.7.0)\n",
      "Requirement already satisfied: astunparse>=1.6.0 in c:\\users\\leo\\miniconda3\\envs\\tf-latest\\lib\\site-packages (from tensorflow->object-detection) (1.6.3)\n",
      "Requirement already satisfied: grpcio<2.0,>=1.24.3 in c:\\users\\leo\\miniconda3\\envs\\tf-latest\\lib\\site-packages (from tensorflow->object-detection) (1.46.3)\n",
      "Requirement already satisfied: tensorflow-estimator<2.10.0,>=2.9.0rc0 in c:\\users\\leo\\miniconda3\\envs\\tf-latest\\lib\\site-packages (from tensorflow->object-detection) (2.9.0)\n",
      "Requirement already satisfied: gast<=0.4.0,>=0.2.1 in c:\\users\\leo\\miniconda3\\envs\\tf-latest\\lib\\site-packages (from tensorflow->object-detection) (0.4.0)\n",
      "Requirement already satisfied: absl-py>=1.0.0 in c:\\users\\leo\\miniconda3\\envs\\tf-latest\\lib\\site-packages (from tensorflow->object-detection) (1.0.0)\n",
      "Requirement already satisfied: keras-preprocessing>=1.1.1 in c:\\users\\leo\\miniconda3\\envs\\tf-latest\\lib\\site-packages (from tensorflow->object-detection) (1.1.2)\n",
      "Requirement already satisfied: libclang>=13.0.0 in c:\\users\\leo\\miniconda3\\envs\\tf-latest\\lib\\site-packages (from tensorflow->object-detection) (14.0.1)\n",
      "Requirement already satisfied: typing-extensions>=3.6.6 in c:\\users\\leo\\miniconda3\\envs\\tf-latest\\lib\\site-packages (from tensorflow->object-detection) (4.1.1)\n",
      "Requirement already satisfied: wrapt>=1.11.0 in c:\\users\\leo\\miniconda3\\envs\\tf-latest\\lib\\site-packages (from tensorflow->object-detection) (1.14.1)\n",
      "Requirement already satisfied: keras<2.10.0,>=2.9.0rc0 in c:\\users\\leo\\miniconda3\\envs\\tf-latest\\lib\\site-packages (from tensorflow->object-detection) (2.9.0)\n",
      "Requirement already satisfied: google-pasta>=0.1.1 in c:\\users\\leo\\miniconda3\\envs\\tf-latest\\lib\\site-packages (from tensorflow->object-detection) (0.2.0)\n",
      "Requirement already satisfied: tensorflow-io-gcs-filesystem>=0.23.1 in c:\\users\\leo\\miniconda3\\envs\\tf-latest\\lib\\site-packages (from tensorflow->object-detection) (0.26.0)\n",
      "Requirement already satisfied: protobuf<3.20,>=3.9.2 in c:\\users\\leo\\miniconda3\\envs\\tf-latest\\lib\\site-packages (from tensorflow->object-detection) (3.19.4)\n",
      "Requirement already satisfied: flatbuffers<2,>=1.12 in c:\\users\\leo\\miniconda3\\envs\\tf-latest\\lib\\site-packages (from tensorflow->object-detection) (1.12)\n",
      "Requirement already satisfied: wheel<1.0,>=0.23.0 in c:\\users\\leo\\miniconda3\\envs\\tf-latest\\lib\\site-packages (from astunparse>=1.6.0->tensorflow->object-detection) (0.37.1)\n",
      "Requirement already satisfied: markdown>=2.6.8 in c:\\users\\leo\\miniconda3\\envs\\tf-latest\\lib\\site-packages (from tensorboard<2.10,>=2.9->tensorflow->object-detection) (3.3.7)\n",
      "Requirement already satisfied: tensorboard-data-server<0.7.0,>=0.6.0 in c:\\users\\leo\\miniconda3\\envs\\tf-latest\\lib\\site-packages (from tensorboard<2.10,>=2.9->tensorflow->object-detection) (0.6.1)\n",
      "Requirement already satisfied: google-auth-oauthlib<0.5,>=0.4.1 in c:\\users\\leo\\miniconda3\\envs\\tf-latest\\lib\\site-packages (from tensorboard<2.10,>=2.9->tensorflow->object-detection) (0.4.6)\n",
      "Requirement already satisfied: werkzeug>=1.0.1 in c:\\users\\leo\\miniconda3\\envs\\tf-latest\\lib\\site-packages (from tensorboard<2.10,>=2.9->tensorflow->object-detection) (2.1.2)\n",
      "Requirement already satisfied: requests<3,>=2.21.0 in c:\\users\\leo\\miniconda3\\envs\\tf-latest\\lib\\site-packages (from tensorboard<2.10,>=2.9->tensorflow->object-detection) (2.27.1)\n",
      "Requirement already satisfied: google-auth<3,>=1.6.3 in c:\\users\\leo\\miniconda3\\envs\\tf-latest\\lib\\site-packages (from tensorboard<2.10,>=2.9->tensorflow->object-detection) (2.6.6)\n",
      "Requirement already satisfied: tensorboard-plugin-wit>=1.6.0 in c:\\users\\leo\\miniconda3\\envs\\tf-latest\\lib\\site-packages (from tensorboard<2.10,>=2.9->tensorflow->object-detection) (1.8.1)\n",
      "Requirement already satisfied: rsa<5,>=3.1.4 in c:\\users\\leo\\miniconda3\\envs\\tf-latest\\lib\\site-packages (from google-auth<3,>=1.6.3->tensorboard<2.10,>=2.9->tensorflow->object-detection) (4.8)\n",
      "Requirement already satisfied: cachetools<6.0,>=2.0.0 in c:\\users\\leo\\miniconda3\\envs\\tf-latest\\lib\\site-packages (from google-auth<3,>=1.6.3->tensorboard<2.10,>=2.9->tensorflow->object-detection) (5.2.0)\n",
      "Requirement already satisfied: pyasn1-modules>=0.2.1 in c:\\users\\leo\\miniconda3\\envs\\tf-latest\\lib\\site-packages (from google-auth<3,>=1.6.3->tensorboard<2.10,>=2.9->tensorflow->object-detection) (0.2.8)\n",
      "Requirement already satisfied: requests-oauthlib>=0.7.0 in c:\\users\\leo\\miniconda3\\envs\\tf-latest\\lib\\site-packages (from google-auth-oauthlib<0.5,>=0.4.1->tensorboard<2.10,>=2.9->tensorflow->object-detection) (1.3.1)\n",
      "Requirement already satisfied: pyasn1<0.5.0,>=0.4.6 in c:\\users\\leo\\miniconda3\\envs\\tf-latest\\lib\\site-packages (from pyasn1-modules>=0.2.1->google-auth<3,>=1.6.3->tensorboard<2.10,>=2.9->tensorflow->object-detection) (0.4.8)\n",
      "Requirement already satisfied: idna<4,>=2.5 in c:\\users\\leo\\miniconda3\\envs\\tf-latest\\lib\\site-packages (from requests<3,>=2.21.0->tensorboard<2.10,>=2.9->tensorflow->object-detection) (3.3)\n",
      "Requirement already satisfied: urllib3<1.27,>=1.21.1 in c:\\users\\leo\\miniconda3\\envs\\tf-latest\\lib\\site-packages (from requests<3,>=2.21.0->tensorboard<2.10,>=2.9->tensorflow->object-detection) (1.26.9)\n",
      "Requirement already satisfied: charset-normalizer~=2.0.0 in c:\\users\\leo\\miniconda3\\envs\\tf-latest\\lib\\site-packages (from requests<3,>=2.21.0->tensorboard<2.10,>=2.9->tensorflow->object-detection) (2.0.12)\n",
      "Requirement already satisfied: certifi>=2017.4.17 in c:\\users\\leo\\miniconda3\\envs\\tf-latest\\lib\\site-packages (from requests<3,>=2.21.0->tensorboard<2.10,>=2.9->tensorflow->object-detection) (2022.5.18.1)\n",
      "Requirement already satisfied: oauthlib>=3.0.0 in c:\\users\\leo\\miniconda3\\envs\\tf-latest\\lib\\site-packages (from requests-oauthlib>=0.7.0->google-auth-oauthlib<0.5,>=0.4.1->tensorboard<2.10,>=2.9->tensorflow->object-detection) (3.2.0)\n",
      "Installing collected packages: lxml, Cython, contextlib2, object-detection\n",
      "Successfully installed Cython-0.29.30 contextlib2-21.6.0 lxml-4.9.0 object-detection-0.0.3\n"
     ]
    }
   ],
   "source": [
    "!pip install object-detection"
   ]
  },
  {
   "cell_type": "code",
   "execution_count": 145,
   "id": "5223177e",
   "metadata": {},
   "outputs": [],
   "source": [
    "import os\n",
    "import cv2\n",
    "import numpy as np\n",
    "import tensorflow as tf"
   ]
  },
  {
   "cell_type": "code",
   "execution_count": 146,
   "id": "8a0f4a50",
   "metadata": {},
   "outputs": [
    {
     "name": "stdout",
     "output_type": "stream",
     "text": [
      "2.9.1\n"
     ]
    }
   ],
   "source": [
    "print(tf.__version__)"
   ]
  },
  {
   "cell_type": "code",
   "execution_count": 118,
   "id": "d865b235",
   "metadata": {},
   "outputs": [],
   "source": [
    "SAVED_MODEL_PATH = \"./savedgraphmodel/saved_model\"\n",
    "IMAGE_PATH = \"./image4.jpg\""
   ]
  },
  {
   "cell_type": "code",
   "execution_count": 97,
   "id": "aaf30e79",
   "metadata": {},
   "outputs": [
    {
     "data": {
      "text/plain": [
       "<tensorflow.python.saved_model.load.Loader._recreate_base_user_object.<locals>._UserObject at 0x1dcf96e17e0>"
      ]
     },
     "execution_count": 97,
     "metadata": {},
     "output_type": "execute_result"
    }
   ],
   "source": [
    "imported = tf.saved_model.load(SAVED_MODEL_PATH)\n",
    "imported"
   ]
  },
  {
   "cell_type": "code",
   "execution_count": 119,
   "id": "4f184426",
   "metadata": {},
   "outputs": [],
   "source": [
    "img = cv2.imread(IMAGE_PATH)\n",
    "image_np = np.array(img)\n",
    "\n",
    "input_tensor = tf.convert_to_tensor(np.expand_dims(image_np, 0), dtype=tf.uint8)"
   ]
  },
  {
   "cell_type": "code",
   "execution_count": 120,
   "id": "57c63a7c",
   "metadata": {},
   "outputs": [],
   "source": [
    "f = imported.signatures['serving_default']\n",
    "detections = f(input_tensor)\n",
    "detections['detection_classes'] = detections['detection_classes'].numpy().astype(np.int64)[0]\n",
    "detections['detection_scores'] = detections['detection_scores'][0].numpy()"
   ]
  },
  {
   "cell_type": "code",
   "execution_count": 121,
   "id": "eda772f0",
   "metadata": {
    "scrolled": true
   },
   "outputs": [
    {
     "name": "stdout",
     "output_type": "stream",
     "text": [
      "[1 2 1 5 7 3 1 3 7 1 1 1 1 1 1 1 1 1 1 1 3 4 1 1 7 1 1 1 1 1 5 1 1 1 1 1 2\n",
      " 5 1 1 1 2 5 1 1 5 3 1 7 1 1 1 4 1 1 2 1 1 1 1 1 5 1 5 1 1 7 5 1 2 1 5 1 1\n",
      " 1 3 5 1 5 6 2 1 7 1 3 7 2 3 5 2 5 3 3 5 1 1 1 3 1 3]\n",
      "tf.Tensor(\n",
      "[[0.88964266 0.06994171 0.06671749 0.05737433 0.05099901 0.04781597\n",
      "  0.03982623 0.03847133 0.03831209 0.03817477 0.03764162 0.03512919\n",
      "  0.0345035  0.0341068  0.03391466 0.03319655 0.03273027 0.03271622\n",
      "  0.03269664 0.03266075 0.03215613 0.03207605 0.03195024 0.03167115\n",
      "  0.03164409 0.03134443 0.03101565 0.03098413 0.03094238 0.03085602\n",
      "  0.03013414 0.02945715 0.02909057 0.02770815 0.02749033 0.02673519\n",
      "  0.02663588 0.02646828 0.02634018 0.02595153 0.02589487 0.02574053\n",
      "  0.02571034 0.02557421 0.02509012 0.02494345 0.02492711 0.02490504\n",
      "  0.02483765 0.02454527 0.02436055 0.02400225 0.0238382  0.02319825\n",
      "  0.02297918 0.02296308 0.02276956 0.02267651 0.02257715 0.02246795\n",
      "  0.02222722 0.02219623 0.02207907 0.02135288 0.02109829 0.02042867\n",
      "  0.01975447 0.01930434 0.01900327 0.01896899 0.0188827  0.01875612\n",
      "  0.01834104 0.0182425  0.018234   0.01809465 0.0178424  0.01782252\n",
      "  0.01761992 0.01743908 0.0169767  0.0169515  0.01693015 0.01691171\n",
      "  0.01688455 0.01684999 0.01659936 0.01630214 0.0161316  0.01591918\n",
      "  0.01589105 0.01575647 0.01575141 0.01567186 0.01566142 0.01548547\n",
      "  0.01548016 0.01545302 0.01503545 0.01498133]], shape=(1, 100), dtype=float32)\n"
     ]
    }
   ],
   "source": [
    "# detection_classes should be ints.\n",
    "label_id_offset = 1\n",
    "image_np_with_detections = image_np.copy()\n",
    "\n",
    "print(detections['detection_classes'])\n",
    "print(detections['detection_scores'])"
   ]
  },
  {
   "cell_type": "code",
   "execution_count": 134,
   "id": "d687e1f2",
   "metadata": {},
   "outputs": [
    {
     "name": "stdout",
     "output_type": "stream",
     "text": [
      "{1: 58, 2: 9, 5: 15, 7: 8, 3: 12, 4: 3, 6: 2}\n",
      "100\n",
      "0.88964266\n",
      "100\n"
     ]
    }
   ],
   "source": [
    "dict = {}\n",
    "for det_class in detections['detection_classes']:\n",
    "    if (det_class not in dict):\n",
    "        dict[det_class] = 1\n",
    "    dict[det_class] += 1\n",
    "\n",
    "print(dict)\n",
    "print(len(detections['detection_classes']))\n",
    "print(detections['detection_scores'].max())\n",
    "print(len(detections['detection_scores']))"
   ]
  },
  {
   "cell_type": "code",
   "execution_count": 139,
   "id": "b5ae2f7a",
   "metadata": {},
   "outputs": [],
   "source": [
    "hi_acc_idx = detections['detection_scores'].argmax()\n",
    "int_label = detections['detection_classes'][hi_acc_idx]"
   ]
  },
  {
   "cell_type": "code",
   "execution_count": 142,
   "id": "251eb5c7",
   "metadata": {},
   "outputs": [
    {
     "name": "stdout",
     "output_type": "stream",
     "text": [
      "kantong\n"
     ]
    }
   ],
   "source": [
    "label_mapping = {\n",
    "    '1': 'kantong',\n",
    "    '2': 'kertas',\n",
    "    '3': 'piring',\n",
    "    '4': 'kardus',\n",
    "    '5': 'cup',\n",
    "    '6': 'kaleng',\n",
    "    '7': 'botol'\n",
    "}\n",
    "\n",
    "print(label_mapping['{}'.format(int_label)])"
   ]
  },
  {
   "cell_type": "code",
   "execution_count": null,
   "id": "7c9224e3",
   "metadata": {},
   "outputs": [],
   "source": []
  }
 ],
 "metadata": {
  "kernelspec": {
   "display_name": "Python 3 (ipykernel)",
   "language": "python",
   "name": "python3"
  },
  "language_info": {
   "codemirror_mode": {
    "name": "ipython",
    "version": 3
   },
   "file_extension": ".py",
   "mimetype": "text/x-python",
   "name": "python",
   "nbconvert_exporter": "python",
   "pygments_lexer": "ipython3",
   "version": "3.10.4"
  }
 },
 "nbformat": 4,
 "nbformat_minor": 5
}
